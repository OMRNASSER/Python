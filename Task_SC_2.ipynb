{
 "cells": [
  {
   "cell_type": "code",
   "execution_count": 109,
   "id": "634970f7",
   "metadata": {},
   "outputs": [],
   "source": [
    "import codecs"
   ]
  },
  {
   "cell_type": "code",
   "execution_count": 110,
   "id": "7b692143",
   "metadata": {},
   "outputs": [],
   "source": [
    "def K_S_T(key):\n",
    "    key_length = len(key)\n",
    "    S = list(range(256))\n",
    "    T = list (range(256)) \n",
    "    for i  in range(256):\n",
    "        T[i]= ord(key[i % key_length])\n",
    "    j=0\n",
    "    for i in range(256):\n",
    "        j= (j  +S[i] + T[i]) % 256 \n",
    "        S[i] , S[j] = S[j]  ,S[i] #Swap in S \n",
    "        \n",
    "    return S\n",
    "\n"
   ]
  },
  {
   "cell_type": "code",
   "execution_count": 111,
   "id": "74292f9a",
   "metadata": {},
   "outputs": [],
   "source": [
    "def SGK(S):\n",
    "    S = K_S_T(S)\n",
    "    i = 0 \n",
    "    j=0 \n",
    "     #t= list(range(256))\n",
    "    while(True):\n",
    "        i = (i+1)%256\n",
    "        j = (j + S[i])%256\n",
    "        S[i] , S[j] = S[i] , S[j]\n",
    "        t = (S[i]+S[j])%256\n",
    "        K=S[t]\n",
    "        yield K"
   ]
  },
  {
   "cell_type": "code",
   "execution_count": 112,
   "id": "ae710602",
   "metadata": {},
   "outputs": [],
   "source": [
    "def encrypt_process(key ,plaintext):\n",
    "    key = SGK(key)\n",
    "#     key =[ord(c) for c in key]\n",
    "    text = [ord(c) for c in plaintext]\n",
    "    result = []\n",
    "    for i in text:\n",
    "        val = (\"%02X\" % ( i ^ next(key)))\n",
    "        result.append(val)\n",
    "        \n",
    "    return ''.join(result)\n",
    " "
   ]
  },
  {
   "cell_type": "code",
   "execution_count": 117,
   "id": "410ed121",
   "metadata": {},
   "outputs": [
    {
     "name": "stdout",
     "output_type": "stream",
     "text": [
      "Enter Plain Text : ;lkdjaklsdjkaslca\n",
      "Enter key Text : dsakjhdj\n",
      "Cipher Text :  AEFB9D6F0930D8326616C8A6B762E9EF04\n"
     ]
    }
   ],
   "source": [
    "plainText = input(\"Enter Plain Text : \") \n",
    "key = input(\"Enter key Text : \")\n",
    "cipherText = encrypt_process(key ,plainText )\n",
    "print(\"Cipher Text : \" , cipherText)\n"
   ]
  },
  {
   "cell_type": "code",
   "execution_count": 118,
   "id": "6a290668",
   "metadata": {},
   "outputs": [
    {
     "name": "stdout",
     "output_type": "stream",
     "text": [
      "Plain Text :  ;lkdjaklsdjkaslca\n"
     ]
    }
   ],
   "source": [
    "def decode(key , ciphertext):\n",
    "    cp =''\n",
    "    ciphertext = codecs.decode(ciphertext, 'hex_codec')\n",
    "    key = SGK(key)\n",
    "    result = []\n",
    "    for i in ciphertext:\n",
    "        val = (\"%02X\" % ( i ^ next(key)))\n",
    "        result.append(val)\n",
    "        \n",
    "    cp=''.join(result)\n",
    "    return codecs.decode(cp, 'hex_codec').decode('utf-8')\n",
    "print(\"Plain Text : \",decode(key,cipherText))  "
   ]
  }
 ],
 "metadata": {
  "kernelspec": {
   "display_name": "Python 3 (ipykernel)",
   "language": "python",
   "name": "python3"
  },
  "language_info": {
   "codemirror_mode": {
    "name": "ipython",
    "version": 3
   },
   "file_extension": ".py",
   "mimetype": "text/x-python",
   "name": "python",
   "nbconvert_exporter": "python",
   "pygments_lexer": "ipython3",
   "version": "3.9.7"
  }
 },
 "nbformat": 4,
 "nbformat_minor": 5
}
