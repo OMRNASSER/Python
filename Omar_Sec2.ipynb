{
 "cells": [
  {
   "cell_type": "code",
   "execution_count": 3,
   "id": "d7422cda",
   "metadata": {},
   "outputs": [
    {
     "name": "stdout",
     "output_type": "stream",
     "text": [
      "Hello From Jupyter\n"
     ]
    }
   ],
   "source": [
    "print(\"Hello From Jupyter\")"
   ]
  },
  {
   "cell_type": "code",
   "execution_count": null,
   "id": "d7422cda",
   "metadata": {},
   "outputs": [
    {
     "name": "stdout",
     "output_type": "stream",
     "text": [
      "Hello From Jupyter\n"
     ]
    }
   ],
   "source": []
  },
  {
   "cell_type": "code",
   "execution_count": 4,
   "id": "cc62f7cb",
   "metadata": {},
   "outputs": [
    {
     "name": "stdout",
     "output_type": "stream",
     "text": [
      "omar\n",
      "16\n"
     ]
    }
   ],
   "source": [
    "name = \"omar\"\n",
    "num = 16 \n",
    "print(name)\n",
    "print(num)"
   ]
  },
  {
   "cell_type": "code",
   "execution_count": 5,
   "id": "3f70ede2",
   "metadata": {},
   "outputs": [
    {
     "data": {
      "text/plain": [
       "'omar'"
      ]
     },
     "execution_count": 5,
     "metadata": {},
     "output_type": "execute_result"
    }
   ],
   "source": [
    "name "
   ]
  },
  {
   "cell_type": "code",
   "execution_count": 6,
   "id": "df5727e0",
   "metadata": {},
   "outputs": [
    {
     "data": {
      "text/plain": [
       "16"
      ]
     },
     "execution_count": 6,
     "metadata": {},
     "output_type": "execute_result"
    }
   ],
   "source": [
    "num"
   ]
  },
  {
   "cell_type": "code",
   "execution_count": 9,
   "id": "5c75140b",
   "metadata": {},
   "outputs": [
    {
     "data": {
      "text/plain": [
       "'omar'"
      ]
     },
     "execution_count": 9,
     "metadata": {},
     "output_type": "execute_result"
    }
   ],
   "source": [
    "name\n"
   ]
  },
  {
   "cell_type": "code",
   "execution_count": 8,
   "id": "f96490fe",
   "metadata": {},
   "outputs": [
    {
     "name": "stdout",
     "output_type": "stream",
     "text": [
      "omar\n",
      "16\n",
      "Difference between print and variable to display value\n"
     ]
    }
   ],
   "source": [
    "print(name)\n",
    "print(num)\n",
    "print('Difference between print and variable to display value')"
   ]
  },
  {
   "cell_type": "code",
   "execution_count": 19,
   "id": "77ac1570",
   "metadata": {},
   "outputs": [
    {
     "name": "stdout",
     "output_type": "stream",
     "text": [
      "You have many Apples !\n"
     ]
    }
   ],
   "source": [
    "   \n",
    "num_of_apple = 5\n",
    "if num_of_apple  < 1 : \n",
    "    print(\"You not have any apples\")\n",
    "elif num_of_apple == 1 : \n",
    "    print(\"You have one apple \")\n",
    "elif num_of_apple < 4 : \n",
    "    print(\"You have few apples\")\n",
    "else : \n",
    "    print(\"You have many Apples !\")\n"
   ]
  },
  {
   "cell_type": "code",
   "execution_count": 52,
   "id": "43c90286",
   "metadata": {},
   "outputs": [
    {
     "name": "stdout",
     "output_type": "stream",
     "text": [
      "Mango\n",
      "apple\n",
      "The last item in The list : \n",
      "Kiwi\n",
      "['apple', 'Mango', 'Banana']\n",
      "['Mango', 'Banana']\n",
      "['apple', 'Mango', 'Banana', 'Kiwi']\n",
      "['apple', 'Mango', 'Banana', 'Kiwi']\n",
      "=====================\n",
      "['apple', 'Mango']\n",
      "['Banana', 'Kiwi']\n",
      "['Kiwi']\n",
      "['apple', 'Mango', 'Banana', 'Kiwi']\n",
      "[]\n",
      "['Mango', 'Banana', 'Kiwi']\n"
     ]
    }
   ],
   "source": [
    "fruits  = [\"apple\", \"Mango\", \"Banana\" , \"Kiwi\"]\n",
    "fruits\n",
    "print(fruits[1]) \n",
    "print(fruits[0])\n",
    "print(\"The last item in The list : \")\n",
    "print(fruits[-1])\n",
    "print(fruits[0:3])\n",
    "print(fruits[1:3])\n",
    "print(fruits[0:4])\n",
    "print(fruits[0:6])\n",
    "print(\"=====================\")\n",
    "print(fruits[:2])\n",
    "print(fruits[2:])\n",
    "print(fruits[3:])\n",
    "print(fruits[0:]) \n",
    "print(fruits[:0]) \n",
    "print(fruits[1:])\n"
   ]
  },
  {
   "cell_type": "code",
   "execution_count": 56,
   "id": "05f5ee18",
   "metadata": {},
   "outputs": [
    {
     "data": {
      "text/plain": [
       "['apple',\n",
       " 'Mango',\n",
       " 'Peache',\n",
       " 'Peache',\n",
       " 'Banana',\n",
       " 'Kiwi',\n",
       " 'Watermelon',\n",
       " 'Watermelon',\n",
       " 'Watermelon',\n",
       " 'Watermelon']"
      ]
     },
     "execution_count": 56,
     "metadata": {},
     "output_type": "execute_result"
    }
   ],
   "source": [
    "fruits.append(\"Watermelon\")\n",
    "fruits\n",
    "fruits.insert(2 , \"Peache\")\n",
    "fruits"
   ]
  },
  {
   "cell_type": "code",
   "execution_count": 58,
   "id": "eb3a828b",
   "metadata": {},
   "outputs": [],
   "source": [
    "del fruits[2]"
   ]
  },
  {
   "cell_type": "code",
   "execution_count": 61,
   "id": "591aaf30",
   "metadata": {},
   "outputs": [
    {
     "data": {
      "text/plain": [
       "['apple', 'Mango', 'Banana', 'Kiwi', 'Watermelon', 'Watermelon']"
      ]
     },
     "execution_count": 61,
     "metadata": {},
     "output_type": "execute_result"
    }
   ],
   "source": [
    "del fruits[-1]\n",
    "fruits"
   ]
  },
  {
   "cell_type": "code",
   "execution_count": 63,
   "id": "39630bcf",
   "metadata": {},
   "outputs": [],
   "source": [
    "fruits\n",
    "del fruits[5]"
   ]
  },
  {
   "cell_type": "code",
   "execution_count": 64,
   "id": "c62a1c66",
   "metadata": {},
   "outputs": [
    {
     "data": {
      "text/plain": [
       "['apple', 'Mango', 'Banana', 'Kiwi', 'Watermelon']"
      ]
     },
     "execution_count": 64,
     "metadata": {},
     "output_type": "execute_result"
    }
   ],
   "source": [
    "fruits"
   ]
  },
  {
   "cell_type": "code",
   "execution_count": 69,
   "id": "32fc1904",
   "metadata": {},
   "outputs": [
    {
     "data": {
      "text/plain": [
       "[1, 2, 3, 4, 'Omar', True, 3.0]"
      ]
     },
     "execution_count": 69,
     "metadata": {},
     "output_type": "execute_result"
    }
   ],
   "source": [
    "ls = [1 , 2 , 3  , 4  , \"Omar\" , True , 3.00]\n",
    "ls"
   ]
  },
  {
   "cell_type": "code",
   "execution_count": 70,
   "id": "bc131241",
   "metadata": {},
   "outputs": [],
   "source": [
    "student_names = [\"Omar\", \"Abdallah\" , \"Hassan\" , \"Mahmoud\"]"
   ]
  },
  {
   "cell_type": "code",
   "execution_count": 74,
   "id": "cdb39373",
   "metadata": {},
   "outputs": [
    {
     "name": "stdout",
     "output_type": "stream",
     "text": [
      "Hello, Omar!\n",
      "Hello, Abdallah!\n",
      "Hello, Hassan!\n",
      "Hello, Mahmoud!\n"
     ]
    }
   ],
   "source": [
    "for student_name in student_names : \n",
    "    print(\"Hello, \" + student_name + \"!\")"
   ]
  },
  {
   "cell_type": "code",
   "execution_count": 77,
   "id": "97a78c16",
   "metadata": {},
   "outputs": [],
   "source": [
    "long_names=[]\n",
    "for student_name in student_names : \n",
    "    if len(student_name) > 4 : \n",
    "        long_names.append(student_name)"
   ]
  },
  {
   "cell_type": "code",
   "execution_count": 78,
   "id": "4ca985ae",
   "metadata": {},
   "outputs": [
    {
     "data": {
      "text/plain": [
       "['Abdallah', 'Hassan', 'Mahmoud']"
      ]
     },
     "execution_count": 78,
     "metadata": {},
     "output_type": "execute_result"
    }
   ],
   "source": [
    "long_names"
   ]
  },
  {
   "cell_type": "code",
   "execution_count": 79,
   "id": "e4498dce",
   "metadata": {},
   "outputs": [
    {
     "data": {
      "text/plain": [
       "[('Omar', 'Omar'),\n",
       " ('Omar', 'Abdallah'),\n",
       " ('Omar', 'Hassan'),\n",
       " ('Omar', 'Mahmoud'),\n",
       " ('Abdallah', 'Omar'),\n",
       " ('Abdallah', 'Abdallah'),\n",
       " ('Abdallah', 'Hassan'),\n",
       " ('Abdallah', 'Mahmoud'),\n",
       " ('Hassan', 'Omar'),\n",
       " ('Hassan', 'Abdallah'),\n",
       " ('Hassan', 'Hassan'),\n",
       " ('Hassan', 'Mahmoud'),\n",
       " ('Mahmoud', 'Omar'),\n",
       " ('Mahmoud', 'Abdallah'),\n",
       " ('Mahmoud', 'Hassan'),\n",
       " ('Mahmoud', 'Mahmoud')]"
      ]
     },
     "execution_count": 79,
     "metadata": {},
     "output_type": "execute_result"
    }
   ],
   "source": [
    "student_pairs = [] \n",
    "for student_name1 in student_names : \n",
    "    for student_name2 in student_names :\n",
    "        student_pairs.append ((student_name1 , student_name2 ))\n",
    "student_pairs"
   ]
  },
  {
   "cell_type": "code",
   "execution_count": 80,
   "id": "db1b15c8",
   "metadata": {},
   "outputs": [
    {
     "data": {
      "text/plain": [
       "[('Omar', 'Abdallah'),\n",
       " ('Omar', 'Hassan'),\n",
       " ('Omar', 'Mahmoud'),\n",
       " ('Abdallah', 'Omar'),\n",
       " ('Abdallah', 'Hassan'),\n",
       " ('Abdallah', 'Mahmoud'),\n",
       " ('Hassan', 'Omar'),\n",
       " ('Hassan', 'Abdallah'),\n",
       " ('Hassan', 'Mahmoud'),\n",
       " ('Mahmoud', 'Omar'),\n",
       " ('Mahmoud', 'Abdallah'),\n",
       " ('Mahmoud', 'Hassan')]"
      ]
     },
     "execution_count": 80,
     "metadata": {},
     "output_type": "execute_result"
    }
   ],
   "source": [
    "student_pairs2 = [] \n",
    "for student_name1 in student_names : \n",
    "    for student_name2 in student_names :\n",
    "        if student_name1 != student_name2 : \n",
    "            student_pairs2.append ((student_name1 , student_name2 ))\n",
    "student_pairs2"
   ]
  },
  {
   "cell_type": "code",
   "execution_count": 87,
   "id": "a989243f",
   "metadata": {},
   "outputs": [
    {
     "data": {
      "text/plain": [
       "('Omar', 'C++', 'A-')"
      ]
     },
     "execution_count": 87,
     "metadata": {},
     "output_type": "execute_result"
    }
   ],
   "source": [
    "student_grade = (\"Omar\" , \"C++\" , \"A-\")\n",
    "student_grade[0:]"
   ]
  },
  {
   "cell_type": "code",
   "execution_count": 86,
   "id": "549c466b",
   "metadata": {},
   "outputs": [
    {
     "ename": "AttributeError",
     "evalue": "'tuple' object has no attribute 'append'",
     "output_type": "error",
     "traceback": [
      "\u001b[1;31m---------------------------------------------------------------------------\u001b[0m",
      "\u001b[1;31mAttributeError\u001b[0m                            Traceback (most recent call last)",
      "\u001b[1;32m~\\AppData\\Local\\Temp/ipykernel_1988/1962727310.py\u001b[0m in \u001b[0;36m<module>\u001b[1;34m\u001b[0m\n\u001b[1;32m----> 1\u001b[1;33m \u001b[0mstudent_grade\u001b[0m\u001b[1;33m.\u001b[0m\u001b[0mappend\u001b[0m\u001b[1;33m(\u001b[0m\u001b[1;34m\"A+\"\u001b[0m\u001b[1;33m)\u001b[0m\u001b[1;33m\u001b[0m\u001b[1;33m\u001b[0m\u001b[0m\n\u001b[0m",
      "\u001b[1;31mAttributeError\u001b[0m: 'tuple' object has no attribute 'append'"
     ]
    }
   ],
   "source": [
    "student_grade.append(\"A+\")"
   ]
  },
  {
   "cell_type": "code",
   "execution_count": 89,
   "id": "280bcec6",
   "metadata": {},
   "outputs": [
    {
     "ename": "TypeError",
     "evalue": "'tuple' object does not support item assignment",
     "output_type": "error",
     "traceback": [
      "\u001b[1;31m---------------------------------------------------------------------------\u001b[0m",
      "\u001b[1;31mTypeError\u001b[0m                                 Traceback (most recent call last)",
      "\u001b[1;32m~\\AppData\\Local\\Temp/ipykernel_1988/3227673744.py\u001b[0m in \u001b[0;36m<module>\u001b[1;34m\u001b[0m\n\u001b[1;32m----> 1\u001b[1;33m \u001b[0mstudent_grade\u001b[0m \u001b[1;33m[\u001b[0m\u001b[1;36m3\u001b[0m\u001b[1;33m]\u001b[0m \u001b[1;33m=\u001b[0m \u001b[1;34m\"24\"\u001b[0m\u001b[1;33m\u001b[0m\u001b[1;33m\u001b[0m\u001b[0m\n\u001b[0m",
      "\u001b[1;31mTypeError\u001b[0m: 'tuple' object does not support item assignment"
     ]
    }
   ],
   "source": [
    "student_grade [3] = \"24\""
   ]
  },
  {
   "cell_type": "code",
   "execution_count": 94,
   "id": "684da1d0",
   "metadata": {},
   "outputs": [
    {
     "name": "stdout",
     "output_type": "stream",
     "text": [
      "Omar\n",
      "C++\n",
      "A-\n"
     ]
    }
   ],
   "source": [
    "student_name,subject,grade  = student_grade \n",
    "print (student_name)\n",
    "print (subject)\n",
    "print(grade)\n"
   ]
  },
  {
   "cell_type": "code",
   "execution_count": 102,
   "id": "49b157e1",
   "metadata": {},
   "outputs": [
    {
     "name": "stdout",
     "output_type": "stream",
     "text": [
      "Congratulations  Alice  on getting  A  in  Spanish\n",
      "Congratulations  Dave  on getting  A-  in  Italian\n",
      "Congratulations  Alice  on getting  A  in  Spanish\n",
      "Congratulations  Dave  on getting  A-  in  Italian\n"
     ]
    }
   ],
   "source": [
    "student_grades = [\n",
    "    ('Alice', 'Spanish', 'A'),\n",
    "    ('Bob', 'French', 'C'),\n",
    "    ('Carol', 'Italian', 'B+'),\n",
    "    ('Dave', 'Italian', 'A-'),\n",
    "]\n",
    "for student_name  , subject  , grade  in student_grades : \n",
    "    if grade.startswith('A'):\n",
    "        print ('Congratulations ' ,  student_name  ,  \" on getting \" , grade  , \" in \"  , subject)\n",
    "for student_grade  in student_grades : \n",
    "    if student_grade[2].startswith('A'):\n",
    "        print ('Congratulations ' , student_grade [0]  ,  \" on getting \" , student_grade[2]  , \" in \"  , student_grade[1])"
   ]
  },
  {
   "cell_type": "code",
   "execution_count": 111,
   "id": "fa573f4f",
   "metadata": {},
   "outputs": [
    {
     "name": "stdout",
     "output_type": "stream",
     "text": [
      "Print languages of Omar & Abdallah\n",
      "Dart , C++ , Java\n",
      "Nodejs , PHP ,Python\n"
     ]
    }
   ],
   "source": [
    "pr = {\n",
    "    'Omar' : \"Dart , C++ , Java\" , \n",
    "    'Ahmed' : \"Java , C#\" , \n",
    "    'Abdallah' : 'Nodejs , PHP ,Python' ,\n",
    "    'Mahamed': 'C++ , C# , Go',\n",
    "}\n",
    "print (\"Print languages of Omar & Abdallah\")\n",
    "print(pr['Omar']) \n",
    "print(pr['Abdallah'])"
   ]
  },
  {
   "cell_type": "code",
   "execution_count": 112,
   "id": "00c71945",
   "metadata": {},
   "outputs": [
    {
     "ename": "KeyError",
     "evalue": "'Ramy'",
     "output_type": "error",
     "traceback": [
      "\u001b[1;31m---------------------------------------------------------------------------\u001b[0m",
      "\u001b[1;31mKeyError\u001b[0m                                  Traceback (most recent call last)",
      "\u001b[1;32m~\\AppData\\Local\\Temp/ipykernel_1988/3904735274.py\u001b[0m in \u001b[0;36m<module>\u001b[1;34m\u001b[0m\n\u001b[1;32m----> 1\u001b[1;33m \u001b[0mpr\u001b[0m\u001b[1;33m[\u001b[0m\u001b[1;34m'Ramy'\u001b[0m\u001b[1;33m]\u001b[0m\u001b[1;33m\u001b[0m\u001b[1;33m\u001b[0m\u001b[0m\n\u001b[0m",
      "\u001b[1;31mKeyError\u001b[0m: 'Ramy'"
     ]
    }
   ],
   "source": [
    "pr['Ramy']"
   ]
  },
  {
   "cell_type": "code",
   "execution_count": 114,
   "id": "538af696",
   "metadata": {},
   "outputs": [
    {
     "data": {
      "text/plain": [
       "False"
      ]
     },
     "execution_count": 114,
     "metadata": {},
     "output_type": "execute_result"
    }
   ],
   "source": [
    "'Ramy' in pr"
   ]
  },
  {
   "cell_type": "code",
   "execution_count": 116,
   "id": "16b284f2",
   "metadata": {},
   "outputs": [
    {
     "data": {
      "text/plain": [
       "True"
      ]
     },
     "execution_count": 116,
     "metadata": {},
     "output_type": "execute_result"
    }
   ],
   "source": [
    "'Omar' in pr"
   ]
  },
  {
   "cell_type": "code",
   "execution_count": 118,
   "id": "7fe69940",
   "metadata": {},
   "outputs": [
    {
     "data": {
      "text/plain": [
       "False"
      ]
     },
     "execution_count": 118,
     "metadata": {},
     "output_type": "execute_result"
    }
   ],
   "source": [
    "'omar' in pr"
   ]
  },
  {
   "cell_type": "code",
   "execution_count": 120,
   "id": "8561e64d",
   "metadata": {},
   "outputs": [
    {
     "data": {
      "text/plain": [
       "{'Omar': 'Dart , C++ , Java',\n",
       " 'Ahmed': 'Java , C#',\n",
       " 'Abdallah': 'Nodejs , PHP ,Python',\n",
       " 'Mahamed': 'C++ , C# , Go',\n",
       " 'Ali': 'Python , C++'}"
      ]
     },
     "execution_count": 120,
     "metadata": {},
     "output_type": "execute_result"
    }
   ],
   "source": [
    "pr['Ali'] = 'Python , C++'\n",
    "pr"
   ]
  },
  {
   "cell_type": "code",
   "execution_count": 123,
   "id": "0c7c8769",
   "metadata": {},
   "outputs": [
    {
     "data": {
      "text/plain": [
       "{'Omar': 'Dart , C++ , Java',\n",
       " 'Ahmed': 'Java , C#',\n",
       " 'Abdallah': 'Nodejs , PHP ,Python',\n",
       " 'Mahamed': 'C++ , C# , Go',\n",
       " 'Ali': 'Python , C++',\n",
       " 'Khaled': 'Spanish'}"
      ]
     },
     "execution_count": 123,
     "metadata": {},
     "output_type": "execute_result"
    }
   ],
   "source": [
    "pr['Khaled'] = 'Spanish'\n",
    "pr"
   ]
  },
  {
   "cell_type": "code",
   "execution_count": 126,
   "id": "c10439d3",
   "metadata": {},
   "outputs": [
    {
     "ename": "KeyError",
     "evalue": "'Khaled'",
     "output_type": "error",
     "traceback": [
      "\u001b[1;31m---------------------------------------------------------------------------\u001b[0m",
      "\u001b[1;31mKeyError\u001b[0m                                  Traceback (most recent call last)",
      "\u001b[1;32m~\\AppData\\Local\\Temp/ipykernel_1988/3622120605.py\u001b[0m in \u001b[0;36m<module>\u001b[1;34m\u001b[0m\n\u001b[1;32m----> 1\u001b[1;33m \u001b[1;32mdel\u001b[0m \u001b[0mpr\u001b[0m\u001b[1;33m[\u001b[0m\u001b[1;34m'Khaled'\u001b[0m\u001b[1;33m]\u001b[0m\u001b[1;33m\u001b[0m\u001b[1;33m\u001b[0m\u001b[0m\n\u001b[0m",
      "\u001b[1;31mKeyError\u001b[0m: 'Khaled'"
     ]
    }
   ],
   "source": [
    "del pr['Khaled']"
   ]
  },
  {
   "cell_type": "code",
   "execution_count": 128,
   "id": "811da529",
   "metadata": {},
   "outputs": [
    {
     "data": {
      "text/plain": [
       "{'Omar': 'Dart , C++ , Java',\n",
       " 'Ahmed': 'Java , C#',\n",
       " 'Abdallah': 'Nodejs , PHP ,Python',\n",
       " 'Mahamed': 'C++ , C# , Go',\n",
       " 'Ali': 'Python , C++'}"
      ]
     },
     "execution_count": 128,
     "metadata": {},
     "output_type": "execute_result"
    }
   ],
   "source": [
    "pr"
   ]
  },
  {
   "cell_type": "code",
   "execution_count": 130,
   "id": "e2e53106",
   "metadata": {},
   "outputs": [],
   "source": [
    "pr['Ali'] = 'Python'"
   ]
  },
  {
   "cell_type": "code",
   "execution_count": 132,
   "id": "836a6509",
   "metadata": {},
   "outputs": [
    {
     "data": {
      "text/plain": [
       "{'Omar': 'Dart , C++ , Java',\n",
       " 'Ahmed': 'Java , C#',\n",
       " 'Abdallah': 'Nodejs , PHP ,Python',\n",
       " 'Mahamed': 'C++ , C# , Go',\n",
       " 'Ali': 'Python'}"
      ]
     },
     "execution_count": 132,
     "metadata": {},
     "output_type": "execute_result"
    }
   ],
   "source": [
    "pr"
   ]
  },
  {
   "cell_type": "code",
   "execution_count": 135,
   "id": "26e574a4",
   "metadata": {},
   "outputs": [
    {
     "name": "stdout",
     "output_type": "stream",
     "text": [
      "Omar : Dart , C++ , Java\n",
      "Ahmed : Java , C#\n",
      "Abdallah : Nodejs , PHP ,Python\n",
      "Mahamed : C++ , C# , Go\n",
      "Ali : Python\n"
     ]
    }
   ],
   "source": [
    "for key in pr : \n",
    "    print (key + \" : \"+  pr[key])"
   ]
  },
  {
   "cell_type": "code",
   "execution_count": 137,
   "id": "2e7f7533",
   "metadata": {},
   "outputs": [
    {
     "name": "stdout",
     "output_type": "stream",
     "text": [
      "Omar  :  Dart , C++ , Java\n",
      "Ahmed  :  Java , C#\n",
      "Abdallah  :  Nodejs , PHP ,Python\n",
      "Mahamed  :  C++ , C# , Go\n",
      "Ali  :  Python\n"
     ]
    }
   ],
   "source": [
    "for key , value  in pr.items() : \n",
    "    print(key  , \" : \"  , value )"
   ]
  },
  {
   "cell_type": "code",
   "execution_count": 142,
   "id": "0318dcf7",
   "metadata": {},
   "outputs": [
    {
     "data": {
      "text/plain": [
       "[('Alice', 'Spanish', 'A'),\n",
       " ('Bob', 'French', 'C'),\n",
       " ('Carol', 'Italian', 'B+'),\n",
       " ('Dave', 'Italian', 'A-')]"
      ]
     },
     "execution_count": 142,
     "metadata": {},
     "output_type": "execute_result"
    }
   ],
   "source": [
    "student_grades"
   ]
  },
  {
   "cell_type": "raw",
   "id": "3427f6ca",
   "metadata": {},
   "source": [
    "student_name , subject , grade = student_grades[0]"
   ]
  },
  {
   "cell_type": "code",
   "execution_count": 147,
   "id": "a7984d25",
   "metadata": {},
   "outputs": [
    {
     "name": "stdout",
     "output_type": "stream",
     "text": [
      "Dave Italian A-\n"
     ]
    }
   ],
   "source": [
    "print (student_name , subject ,grade)"
   ]
  },
  {
   "cell_type": "code",
   "execution_count": 151,
   "id": "f9c4756a",
   "metadata": {},
   "outputs": [
    {
     "name": "stdout",
     "output_type": "stream",
     "text": [
      "Dave got grade of A- in Italian\n"
     ]
    }
   ],
   "source": [
    "record = {\n",
    "    'name' : 'Dave' , \n",
    "    'subject': 'Italian', \n",
    "    'grade' : 'A-', \n",
    "}\n",
    "print(record['name'] , 'got grade of' , record ['grade']  , \"in\" , record['subject'])"
   ]
  },
  {
   "cell_type": "code",
   "execution_count": 153,
   "id": "7d8204a7",
   "metadata": {},
   "outputs": [
    {
     "data": {
      "text/plain": [
       "[('Alice', 'Spanish', 'A'),\n",
       " ('Bob', 'French', 'C'),\n",
       " ('Carol', 'Italian', 'B+'),\n",
       " ('Dave', 'Italian', 'A-')]"
      ]
     },
     "execution_count": 153,
     "metadata": {},
     "output_type": "execute_result"
    }
   ],
   "source": [
    "student_grades"
   ]
  },
  {
   "cell_type": "code",
   "execution_count": 156,
   "id": "209f8c6d",
   "metadata": {},
   "outputs": [
    {
     "data": {
      "text/plain": [
       "'C'"
      ]
     },
     "execution_count": 156,
     "metadata": {},
     "output_type": "execute_result"
    }
   ],
   "source": [
    "student_grades[1][2]"
   ]
  },
  {
   "cell_type": "code",
   "execution_count": 158,
   "id": "18fd6bcb",
   "metadata": {},
   "outputs": [
    {
     "data": {
      "text/plain": [
       "[('Alice', 'Spanish', 'A'),\n",
       " ('Bob', 'French', 'C'),\n",
       " ('Carol', 'Italian', 'B+'),\n",
       " ('Dave', 'Italian', 'A-')]"
      ]
     },
     "execution_count": 158,
     "metadata": {},
     "output_type": "execute_result"
    }
   ],
   "source": [
    "student_grades"
   ]
  },
  {
   "cell_type": "code",
   "execution_count": 162,
   "id": "7ed30357",
   "metadata": {},
   "outputs": [
    {
     "name": "stdout",
     "output_type": "stream",
     "text": [
      "List of Dictionary about students grades : \n"
     ]
    },
    {
     "data": {
      "text/plain": [
       "[{'name': 'Alice', 'subject': 'Spanish', 'grade': 'A'},\n",
       " {'name': 'Bob', 'subject': 'French', 'grade': 'C'},\n",
       " {'name': 'Carol', 'subject': 'Italian', 'grade': 'B+'},\n",
       " {'name': 'Dave', 'subject': 'Italian', 'grade': 'A-'}]"
      ]
     },
     "execution_count": 162,
     "metadata": {},
     "output_type": "execute_result"
    }
   ],
   "source": [
    "student_grades_records=[]\n",
    "for student_name , subject , grade  in student_grades : \n",
    "    record = {\n",
    "        \"name\": student_name , \n",
    "        \"subject\" : subject , \n",
    "        \"grade\" : grade ,\n",
    "    }\n",
    "    student_grades_records.append(record)\n",
    "print(\"List of Dictionary about students grades : \")\n",
    "student_grades_records "
   ]
  },
  {
   "cell_type": "code",
   "execution_count": 164,
   "id": "06f52b87",
   "metadata": {},
   "outputs": [
    {
     "data": {
      "text/plain": [
       "{'name': 'Bob', 'subject': 'French', 'grade': 'C'}"
      ]
     },
     "execution_count": 164,
     "metadata": {},
     "output_type": "execute_result"
    }
   ],
   "source": [
    "student_grades_records[1]"
   ]
  },
  {
   "cell_type": "code",
   "execution_count": 166,
   "id": "d4904152",
   "metadata": {},
   "outputs": [
    {
     "data": {
      "text/plain": [
       "'B+'"
      ]
     },
     "execution_count": 166,
     "metadata": {},
     "output_type": "execute_result"
    }
   ],
   "source": [
    "student_grades_records[2]['grade']"
   ]
  },
  {
   "cell_type": "code",
   "execution_count": 168,
   "id": "d959580a",
   "metadata": {},
   "outputs": [
    {
     "data": {
      "text/plain": [
       "'Carol'"
      ]
     },
     "execution_count": 168,
     "metadata": {},
     "output_type": "execute_result"
    }
   ],
   "source": [
    "student_grades_records[2]['name']"
   ]
  },
  {
   "cell_type": "code",
   "execution_count": 171,
   "id": "e51262d7",
   "metadata": {},
   "outputs": [
    {
     "name": "stdout",
     "output_type": "stream",
     "text": [
      "Congratulations Alice on getting an A in Spanish\n",
      "Congratulations Dave on getting an A- in Italian\n"
     ]
    }
   ],
   "source": [
    "for record in student_grades_records:\n",
    "    if record['grade'].startswith('A'):\n",
    "        print('Congratulations', record['name'], \n",
    "              'on getting an', record['grade'], \n",
    "              'in', record['subject'])"
   ]
  },
  {
   "cell_type": "code",
   "execution_count": 174,
   "id": "cb16db7c",
   "metadata": {},
   "outputs": [
    {
     "data": {
      "text/plain": [
       "[('Alice', 'Spanish', 'A'),\n",
       " ('Bob', 'French', 'C'),\n",
       " ('Carol', 'Italian', 'B+'),\n",
       " ('Dave', 'Italian', 'A-')]"
      ]
     },
     "execution_count": 174,
     "metadata": {},
     "output_type": "execute_result"
    }
   ],
   "source": [
    "student_grades"
   ]
  },
  {
   "cell_type": "code",
   "execution_count": 176,
   "id": "c01ac780",
   "metadata": {},
   "outputs": [
    {
     "data": {
      "text/plain": [
       "{'name': 'Dave', 'subject': 'Italian', 'grade': 'A-'}"
      ]
     },
     "execution_count": 176,
     "metadata": {},
     "output_type": "execute_result"
    }
   ],
   "source": [
    "record"
   ]
  },
  {
   "cell_type": "code",
   "execution_count": 179,
   "id": "b9335df3",
   "metadata": {},
   "outputs": [
    {
     "data": {
      "text/plain": [
       "{1: {'name': 'Dave', 'subject': 'Italian', 'grade': 'A-'},\n",
       " 2: {'name': 'Khaled', 'subject': 'English', 'grade': 'B+'},\n",
       " 3: {'name': 'Ahmed', 'subject': 'C++', 'grade': 'D'}}"
      ]
     },
     "execution_count": 179,
     "metadata": {},
     "output_type": "execute_result"
    }
   ],
   "source": [
    "r= {\n",
    "    1 : {'name': 'Dave', 'subject': 'Italian', 'grade': 'A-'} , \n",
    "    2 : {'name': 'Khaled', 'subject': 'English', 'grade': 'B+'}, \n",
    "    3 :{'name': 'Ahmed', 'subject': 'C++', 'grade': 'D'},\n",
    "}\n",
    "r"
   ]
  },
  {
   "cell_type": "code",
   "execution_count": 182,
   "id": "2962744e",
   "metadata": {},
   "outputs": [
    {
     "data": {
      "text/plain": [
       "'Khaled'"
      ]
     },
     "execution_count": 182,
     "metadata": {},
     "output_type": "execute_result"
    }
   ],
   "source": [
    "r[2]['name']"
   ]
  },
  {
   "cell_type": "code",
   "execution_count": 184,
   "id": "28335bcf",
   "metadata": {},
   "outputs": [
    {
     "data": {
      "text/plain": [
       "[('Alice', 'Spanish', 'A'),\n",
       " ('Bob', 'French', 'C'),\n",
       " ('Carol', 'Italian', 'B+'),\n",
       " ('Dave', 'Italian', 'A-')]"
      ]
     },
     "execution_count": 184,
     "metadata": {},
     "output_type": "execute_result"
    }
   ],
   "source": [
    "student_grades"
   ]
  },
  {
   "cell_type": "code",
   "execution_count": 186,
   "id": "a3d29351",
   "metadata": {},
   "outputs": [
    {
     "data": {
      "text/plain": [
       "{('Alice', 'Spanish'): 'A',\n",
       " ('Bob', 'French'): 'C',\n",
       " ('Carol', 'Italian'): 'B+',\n",
       " ('Dave', 'Italian'): 'A-'}"
      ]
     },
     "execution_count": 186,
     "metadata": {},
     "output_type": "execute_result"
    }
   ],
   "source": [
    "student_grades_key = {}\n",
    "for student_name , subject , grade in student_grades : \n",
    "    student_grades_key [student_name , subject] = grade\n",
    "student_grades_key "
   ]
  },
  {
   "cell_type": "code",
   "execution_count": 188,
   "id": "d44ca7d4",
   "metadata": {},
   "outputs": [],
   "source": [
    "student_grades_key['Alice', 'Math'] = 'A'"
   ]
  },
  {
   "cell_type": "code",
   "execution_count": 191,
   "id": "fd4c104e",
   "metadata": {},
   "outputs": [
    {
     "data": {
      "text/plain": [
       "{('Alice', 'Spanish'): 'A',\n",
       " ('Bob', 'French'): 'C',\n",
       " ('Carol', 'Italian'): 'B+',\n",
       " ('Dave', 'Italian'): 'A-',\n",
       " ('Alice', 'Math'): 'A'}"
      ]
     },
     "execution_count": 191,
     "metadata": {},
     "output_type": "execute_result"
    }
   ],
   "source": [
    "student_grades_key"
   ]
  },
  {
   "cell_type": "code",
   "execution_count": 193,
   "id": "3ef2096e",
   "metadata": {},
   "outputs": [],
   "source": [
    "student_grades_key['Alice', 'History'] = 'B'"
   ]
  },
  {
   "cell_type": "code",
   "execution_count": 194,
   "id": "205e1686",
   "metadata": {},
   "outputs": [
    {
     "data": {
      "text/plain": [
       "{('Alice', 'Spanish'): 'A',\n",
       " ('Bob', 'French'): 'C',\n",
       " ('Carol', 'Italian'): 'B+',\n",
       " ('Dave', 'Italian'): 'A-',\n",
       " ('Alice', 'Math'): 'A',\n",
       " ('Alice', 'History'): 'B'}"
      ]
     },
     "execution_count": 194,
     "metadata": {},
     "output_type": "execute_result"
    }
   ],
   "source": [
    "student_grades_key"
   ]
  }
 ],
 "metadata": {
  "kernelspec": {
   "display_name": "Python 3 (ipykernel)",
   "language": "python",
   "name": "python3"
  },
  "language_info": {
   "codemirror_mode": {
    "name": "ipython",
    "version": 3
   },
   "file_extension": ".py",
   "mimetype": "text/x-python",
   "name": "python",
   "nbconvert_exporter": "python",
   "pygments_lexer": "ipython3",
   "version": "3.9.7"
  }
 },
 "nbformat": 4,
 "nbformat_minor": 5
}
